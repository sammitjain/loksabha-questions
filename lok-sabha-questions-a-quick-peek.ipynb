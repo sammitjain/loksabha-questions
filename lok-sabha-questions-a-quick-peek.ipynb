{
 "cells": [
  {
   "cell_type": "markdown",
   "id": "00bf5983",
   "metadata": {
    "papermill": {
     "duration": 0.016014,
     "end_time": "2021-12-22T19:55:56.266283",
     "exception": false,
     "start_time": "2021-12-22T19:55:56.250269",
     "status": "completed"
    },
    "tags": []
   },
   "source": [
    "Check out the [description](https://github.com/sammitjain/loksabha-questions) for some more context about the datasets. I'm choosing to go with the flattened version for this notebook."
   ]
  },
  {
   "cell_type": "code",
   "execution_count": 1,
   "id": "26c0a3e5",
   "metadata": {
    "execution": {
     "iopub.execute_input": "2021-12-22T19:55:56.302565Z",
     "iopub.status.busy": "2021-12-22T19:55:56.300487Z",
     "iopub.status.idle": "2021-12-22T19:55:57.406715Z",
     "shell.execute_reply": "2021-12-22T19:55:57.407236Z",
     "shell.execute_reply.started": "2021-12-22T19:20:36.590077Z"
    },
    "papermill": {
     "duration": 1.126015,
     "end_time": "2021-12-22T19:55:57.407553",
     "exception": false,
     "start_time": "2021-12-22T19:55:56.281538",
     "status": "completed"
    },
    "tags": []
   },
   "outputs": [],
   "source": [
    "import pandas as pd\n",
    "import matplotlib.pyplot as plt\n",
    "import seaborn as sns\n",
    "from pprint import pprint"
   ]
  },
  {
   "cell_type": "code",
   "execution_count": 2,
   "id": "cf8bb798",
   "metadata": {
    "execution": {
     "iopub.execute_input": "2021-12-22T19:55:57.441830Z",
     "iopub.status.busy": "2021-12-22T19:55:57.440910Z",
     "iopub.status.idle": "2021-12-22T19:55:57.602951Z",
     "shell.execute_reply": "2021-12-22T19:55:57.603428Z",
     "shell.execute_reply.started": "2021-12-22T19:20:36.598133Z"
    },
    "papermill": {
     "duration": 0.180854,
     "end_time": "2021-12-22T19:55:57.603607",
     "exception": false,
     "start_time": "2021-12-22T19:55:57.422753",
     "status": "completed"
    },
    "tags": []
   },
   "outputs": [],
   "source": [
    "# Load the questions dataset\n",
    "questions = pd.read_csv(\"/kaggle/input/lok-sabha-questions/questions_flattened.csv\")"
   ]
  },
  {
   "cell_type": "code",
   "execution_count": 3,
   "id": "0aff5438",
   "metadata": {
    "execution": {
     "iopub.execute_input": "2021-12-22T19:55:57.638198Z",
     "iopub.status.busy": "2021-12-22T19:55:57.637443Z",
     "iopub.status.idle": "2021-12-22T19:55:57.672422Z",
     "shell.execute_reply": "2021-12-22T19:55:57.672950Z",
     "shell.execute_reply.started": "2021-12-22T19:20:36.678079Z"
    },
    "papermill": {
     "duration": 0.054431,
     "end_time": "2021-12-22T19:55:57.673141",
     "exception": false,
     "start_time": "2021-12-22T19:55:57.618710",
     "status": "completed"
    },
    "tags": []
   },
   "outputs": [
    {
     "name": "stdout",
     "output_type": "stream",
     "text": [
      "<class 'pandas.core.frame.DataFrame'>\n",
      "RangeIndex: 7050 entries, 0 to 7049\n",
      "Data columns (total 12 columns):\n",
      " #   Column             Non-Null Count  Dtype \n",
      "---  ------             --------------  ----- \n",
      " 0   Unnamed: 0         7050 non-null   int64 \n",
      " 1   id                 7050 non-null   int64 \n",
      " 2   topic              7050 non-null   object\n",
      " 3   from               7050 non-null   object\n",
      " 4   to                 7050 non-null   object\n",
      " 5   contents           7042 non-null   object\n",
      " 6   date               7050 non-null   object\n",
      " 7   type               7050 non-null   object\n",
      " 8   party              7050 non-null   object\n",
      " 9   state              7050 non-null   object\n",
      " 10  constituency       7050 non-null   object\n",
      " 11  constituency_type  1486 non-null   object\n",
      "dtypes: int64(2), object(10)\n",
      "memory usage: 661.1+ KB\n"
     ]
    }
   ],
   "source": [
    "# General information\n",
    "questions.info()"
   ]
  },
  {
   "cell_type": "code",
   "execution_count": 4,
   "id": "bec747aa",
   "metadata": {
    "execution": {
     "iopub.execute_input": "2021-12-22T19:55:57.707782Z",
     "iopub.status.busy": "2021-12-22T19:55:57.707174Z",
     "iopub.status.idle": "2021-12-22T19:55:57.728552Z",
     "shell.execute_reply": "2021-12-22T19:55:57.729105Z",
     "shell.execute_reply.started": "2021-12-22T19:20:36.694551Z"
    },
    "papermill": {
     "duration": 0.040217,
     "end_time": "2021-12-22T19:55:57.729276",
     "exception": false,
     "start_time": "2021-12-22T19:55:57.689059",
     "status": "completed"
    },
    "tags": []
   },
   "outputs": [
    {
     "data": {
      "text/html": [
       "<div>\n",
       "<style scoped>\n",
       "    .dataframe tbody tr th:only-of-type {\n",
       "        vertical-align: middle;\n",
       "    }\n",
       "\n",
       "    .dataframe tbody tr th {\n",
       "        vertical-align: top;\n",
       "    }\n",
       "\n",
       "    .dataframe thead th {\n",
       "        text-align: right;\n",
       "    }\n",
       "</style>\n",
       "<table border=\"1\" class=\"dataframe\">\n",
       "  <thead>\n",
       "    <tr style=\"text-align: right;\">\n",
       "      <th></th>\n",
       "      <th>Unnamed: 0</th>\n",
       "      <th>id</th>\n",
       "      <th>topic</th>\n",
       "      <th>from</th>\n",
       "      <th>to</th>\n",
       "      <th>contents</th>\n",
       "      <th>date</th>\n",
       "      <th>type</th>\n",
       "      <th>party</th>\n",
       "      <th>state</th>\n",
       "      <th>constituency</th>\n",
       "      <th>constituency_type</th>\n",
       "    </tr>\n",
       "  </thead>\n",
       "  <tbody>\n",
       "    <tr>\n",
       "      <th>0</th>\n",
       "      <td>0</td>\n",
       "      <td>41</td>\n",
       "      <td>PMGDISHA</td>\n",
       "      <td>T. Sumathy (A) Thamizhachi Thangapandian, Dr.</td>\n",
       "      <td>ELECTRONICS  AND INFORMATION TECHNOLOGY</td>\n",
       "      <td>(a) the State-wise details of rural households...</td>\n",
       "      <td>2021-12-01</td>\n",
       "      <td>STARRED</td>\n",
       "      <td>Dravida Munnetra Kazhagam</td>\n",
       "      <td>Tamil Nadu</td>\n",
       "      <td>Chennai South</td>\n",
       "      <td>NaN</td>\n",
       "    </tr>\n",
       "    <tr>\n",
       "      <th>1</th>\n",
       "      <td>1</td>\n",
       "      <td>42</td>\n",
       "      <td>Track Electrification Projects</td>\n",
       "      <td>Chaudhuri, Km. Debasree</td>\n",
       "      <td>RAILWAYS</td>\n",
       "      <td>(a) whether the Railways proposes to fast trac...</td>\n",
       "      <td>2021-12-01</td>\n",
       "      <td>STARRED</td>\n",
       "      <td>Bharatiya Janata Party</td>\n",
       "      <td>West Bengal</td>\n",
       "      <td>Raiganj</td>\n",
       "      <td>NaN</td>\n",
       "    </tr>\n",
       "    <tr>\n",
       "      <th>2</th>\n",
       "      <td>2</td>\n",
       "      <td>43</td>\n",
       "      <td>Mini LPG Cylinders</td>\n",
       "      <td>Sridhar, Shri Kotagiri</td>\n",
       "      <td>CONSUMER AFFAIRS</td>\n",
       "      <td>(a) whether the Government has received any\\np...</td>\n",
       "      <td>2021-12-01</td>\n",
       "      <td>STARRED</td>\n",
       "      <td>Yuvajana Sramika Rythu Congress Party</td>\n",
       "      <td>Andhra Pradesh</td>\n",
       "      <td>Eluru</td>\n",
       "      <td>NaN</td>\n",
       "    </tr>\n",
       "    <tr>\n",
       "      <th>3</th>\n",
       "      <td>3</td>\n",
       "      <td>43</td>\n",
       "      <td>Mini LPG Cylinders</td>\n",
       "      <td>Nallakonda Gari, Shri Reddeppa</td>\n",
       "      <td>CONSUMER AFFAIRS</td>\n",
       "      <td>(a) whether the Government has received any\\np...</td>\n",
       "      <td>2021-12-01</td>\n",
       "      <td>STARRED</td>\n",
       "      <td>Yuvajana Sramika Rythu Congress Party</td>\n",
       "      <td>Andhra Pradesh</td>\n",
       "      <td>Chittoor</td>\n",
       "      <td>SC</td>\n",
       "    </tr>\n",
       "    <tr>\n",
       "      <th>4</th>\n",
       "      <td>4</td>\n",
       "      <td>44</td>\n",
       "      <td>Container Manufacturing Facility</td>\n",
       "      <td>Madhav, Shri Kuruva Gorantla</td>\n",
       "      <td>RAILWAYS</td>\n",
       "      <td>(a) whether the Government is aware of the fac...</td>\n",
       "      <td>2021-12-01</td>\n",
       "      <td>STARRED</td>\n",
       "      <td>Yuvajana Sramika Rythu Congress Party</td>\n",
       "      <td>Andhra Pradesh</td>\n",
       "      <td>Hindupur</td>\n",
       "      <td>NaN</td>\n",
       "    </tr>\n",
       "  </tbody>\n",
       "</table>\n",
       "</div>"
      ],
      "text/plain": [
       "   Unnamed: 0  id                             topic  \\\n",
       "0           0  41                          PMGDISHA   \n",
       "1           1  42    Track Electrification Projects   \n",
       "2           2  43                Mini LPG Cylinders   \n",
       "3           3  43                Mini LPG Cylinders   \n",
       "4           4  44  Container Manufacturing Facility   \n",
       "\n",
       "                                            from  \\\n",
       "0  T. Sumathy (A) Thamizhachi Thangapandian, Dr.   \n",
       "1                        Chaudhuri, Km. Debasree   \n",
       "2                         Sridhar, Shri Kotagiri   \n",
       "3                 Nallakonda Gari, Shri Reddeppa   \n",
       "4                   Madhav, Shri Kuruva Gorantla   \n",
       "\n",
       "                                        to  \\\n",
       "0  ELECTRONICS  AND INFORMATION TECHNOLOGY   \n",
       "1                                 RAILWAYS   \n",
       "2                         CONSUMER AFFAIRS   \n",
       "3                         CONSUMER AFFAIRS   \n",
       "4                                 RAILWAYS   \n",
       "\n",
       "                                            contents        date     type  \\\n",
       "0  (a) the State-wise details of rural households...  2021-12-01  STARRED   \n",
       "1  (a) whether the Railways proposes to fast trac...  2021-12-01  STARRED   \n",
       "2  (a) whether the Government has received any\\np...  2021-12-01  STARRED   \n",
       "3  (a) whether the Government has received any\\np...  2021-12-01  STARRED   \n",
       "4  (a) whether the Government is aware of the fac...  2021-12-01  STARRED   \n",
       "\n",
       "                                   party           state   constituency  \\\n",
       "0              Dravida Munnetra Kazhagam      Tamil Nadu  Chennai South   \n",
       "1                 Bharatiya Janata Party     West Bengal        Raiganj   \n",
       "2  Yuvajana Sramika Rythu Congress Party  Andhra Pradesh          Eluru   \n",
       "3  Yuvajana Sramika Rythu Congress Party  Andhra Pradesh       Chittoor   \n",
       "4  Yuvajana Sramika Rythu Congress Party  Andhra Pradesh       Hindupur   \n",
       "\n",
       "  constituency_type  \n",
       "0               NaN  \n",
       "1               NaN  \n",
       "2               NaN  \n",
       "3                SC  \n",
       "4               NaN  "
      ]
     },
     "execution_count": 4,
     "metadata": {},
     "output_type": "execute_result"
    }
   ],
   "source": [
    "# Each row stands for a \"question\". Check out the first 5 rows\n",
    "questions.head()"
   ]
  },
  {
   "cell_type": "code",
   "execution_count": 5,
   "id": "c72e3ee8",
   "metadata": {
    "execution": {
     "iopub.execute_input": "2021-12-22T19:55:57.766373Z",
     "iopub.status.busy": "2021-12-22T19:55:57.765674Z",
     "iopub.status.idle": "2021-12-22T19:55:57.769474Z",
     "shell.execute_reply": "2021-12-22T19:55:57.768946Z",
     "shell.execute_reply.started": "2021-12-22T19:20:36.710302Z"
    },
    "papermill": {
     "duration": 0.024311,
     "end_time": "2021-12-22T19:55:57.769621",
     "exception": false,
     "start_time": "2021-12-22T19:55:57.745310",
     "status": "completed"
    },
    "tags": []
   },
   "outputs": [
    {
     "name": "stdout",
     "output_type": "stream",
     "text": [
      "There are 7050 rows and 12 columns in this dataset\n"
     ]
    }
   ],
   "source": [
    "# Check number of rows and columns\n",
    "print(f\"There are {questions.shape[0]} rows and {questions.shape[1]} columns in this dataset\")"
   ]
  },
  {
   "cell_type": "code",
   "execution_count": 6,
   "id": "390cacd2",
   "metadata": {
    "execution": {
     "iopub.execute_input": "2021-12-22T19:55:57.807005Z",
     "iopub.status.busy": "2021-12-22T19:55:57.805825Z",
     "iopub.status.idle": "2021-12-22T19:55:57.815191Z",
     "shell.execute_reply": "2021-12-22T19:55:57.816094Z",
     "shell.execute_reply.started": "2021-12-22T19:20:36.717544Z"
    },
    "papermill": {
     "duration": 0.030383,
     "end_time": "2021-12-22T19:55:57.816355",
     "exception": false,
     "start_time": "2021-12-22T19:55:57.785972",
     "status": "completed"
    },
    "tags": []
   },
   "outputs": [
    {
     "name": "stdout",
     "output_type": "stream",
     "text": [
      "A total of 4250 unique questions were asked in the Lok Sabha from 2021-12-01 to 2021-12-23\n"
     ]
    }
   ],
   "source": [
    "# But these are not all unique questions. Check how many unique questions were presented\n",
    "print(f\"A total of {questions.id.unique().shape[0]} unique questions were asked in the Lok Sabha from {questions.date.min()} to {questions.date.max()}\")"
   ]
  },
  {
   "cell_type": "code",
   "execution_count": 7,
   "id": "9fa99238",
   "metadata": {
    "execution": {
     "iopub.execute_input": "2021-12-22T19:55:57.858624Z",
     "iopub.status.busy": "2021-12-22T19:55:57.857967Z",
     "iopub.status.idle": "2021-12-22T19:55:58.370601Z",
     "shell.execute_reply": "2021-12-22T19:55:58.370063Z",
     "shell.execute_reply.started": "2021-12-22T19:20:36.728605Z"
    },
    "papermill": {
     "duration": 0.536596,
     "end_time": "2021-12-22T19:55:58.370748",
     "exception": false,
     "start_time": "2021-12-22T19:55:57.834152",
     "status": "completed"
    },
    "tags": []
   },
   "outputs": [
    {
     "data": {
      "image/png": "[encoded data removed]",
      "text/plain": [
       "<Figure size 1080x360 with 1 Axes>"
      ]
     },
     "metadata": {
      "needs_background": "light"
     },
     "output_type": "display_data"
    }
   ],
   "source": [
    "# Let's find out which state's MPs have been the most active\n",
    "questions_state_wise = questions.groupby('state')['state'].agg(['count']).sort_values('count', ascending=False).reset_index()\n",
    "questions_state_wise.columns = ['State', 'Number of Questions']\n",
    "plt.figure(figsize=(15, 5))\n",
    "plt.title('State-wise distribution of questions')\n",
    "sns.barplot(x='State', y='Number of Questions', data=questions_state_wise)\n",
    "plt.xticks(rotation=90)\n",
    "plt.show()"
   ]
  },
  {
   "cell_type": "code",
   "execution_count": 8,
   "id": "5435a88f",
   "metadata": {
    "execution": {
     "iopub.execute_input": "2021-12-22T19:55:58.414906Z",
     "iopub.status.busy": "2021-12-22T19:55:58.414222Z",
     "iopub.status.idle": "2021-12-22T19:55:58.433779Z",
     "shell.execute_reply": "2021-12-22T19:55:58.433151Z",
     "shell.execute_reply.started": "2021-12-22T19:20:37.162507Z"
    },
    "papermill": {
     "duration": 0.043166,
     "end_time": "2021-12-22T19:55:58.433931",
     "exception": false,
     "start_time": "2021-12-22T19:55:58.390765",
     "status": "completed"
    },
    "tags": []
   },
   "outputs": [
    {
     "data": {
      "text/html": [
       "<div>\n",
       "<style scoped>\n",
       "    .dataframe tbody tr th:only-of-type {\n",
       "        vertical-align: middle;\n",
       "    }\n",
       "\n",
       "    .dataframe tbody tr th {\n",
       "        vertical-align: top;\n",
       "    }\n",
       "\n",
       "    .dataframe thead th {\n",
       "        text-align: right;\n",
       "    }\n",
       "</style>\n",
       "<table border=\"1\" class=\"dataframe\">\n",
       "  <thead>\n",
       "    <tr style=\"text-align: right;\">\n",
       "      <th></th>\n",
       "      <th>State</th>\n",
       "      <th>Number of Questions</th>\n",
       "      <th>Number of MPs</th>\n",
       "    </tr>\n",
       "  </thead>\n",
       "  <tbody>\n",
       "    <tr>\n",
       "      <th>0</th>\n",
       "      <td>Maharashtra</td>\n",
       "      <td>1038</td>\n",
       "      <td>48</td>\n",
       "    </tr>\n",
       "    <tr>\n",
       "      <th>1</th>\n",
       "      <td>Tamil Nadu</td>\n",
       "      <td>685</td>\n",
       "      <td>39</td>\n",
       "    </tr>\n",
       "    <tr>\n",
       "      <th>2</th>\n",
       "      <td>Uttar Pradesh</td>\n",
       "      <td>677</td>\n",
       "      <td>80</td>\n",
       "    </tr>\n",
       "    <tr>\n",
       "      <th>3</th>\n",
       "      <td>Andhra Pradesh</td>\n",
       "      <td>571</td>\n",
       "      <td>25</td>\n",
       "    </tr>\n",
       "    <tr>\n",
       "      <th>4</th>\n",
       "      <td>Rajasthan</td>\n",
       "      <td>410</td>\n",
       "      <td>25</td>\n",
       "    </tr>\n",
       "  </tbody>\n",
       "</table>\n",
       "</div>"
      ],
      "text/plain": [
       "            State  Number of Questions  Number of MPs\n",
       "0     Maharashtra                 1038             48\n",
       "1      Tamil Nadu                  685             39\n",
       "2   Uttar Pradesh                  677             80\n",
       "3  Andhra Pradesh                  571             25\n",
       "4       Rajasthan                  410             25"
      ]
     },
     "execution_count": 8,
     "metadata": {},
     "output_type": "execute_result"
    }
   ],
   "source": [
    "# Are bigger states therefore more \"active\" in asking questions in the Lok Sabha?\n",
    "# Not quite. Recall that not each state has an equal number of representatives in the Lok Sabha.\n",
    "# Let's try to calculate the activity score of a state as : Number of questions from the state / Number of constituencies in the state\n",
    "\n",
    "# Load members state, constituency info\n",
    "members = pd.read_csv(\"/kaggle/input/lok-sabha-questions/members.csv\")\n",
    "\n",
    "# Find number of members from each State\n",
    "state_counts = members.groupby('State')['State'].count().to_dict()\n",
    "\n",
    "# Map state_counts to questions_state_wise\n",
    "questions_state_wise['Number of MPs'] = questions_state_wise['State'].map(state_counts)\n",
    "\n",
    "# Check out state wise questions now\n",
    "questions_state_wise.head()"
   ]
  },
  {
   "cell_type": "code",
   "execution_count": 9,
   "id": "74250119",
   "metadata": {
    "execution": {
     "iopub.execute_input": "2021-12-22T19:55:58.482192Z",
     "iopub.status.busy": "2021-12-22T19:55:58.481518Z",
     "iopub.status.idle": "2021-12-22T19:55:58.485750Z",
     "shell.execute_reply": "2021-12-22T19:55:58.485202Z",
     "shell.execute_reply.started": "2021-12-22T19:20:37.182467Z"
    },
    "papermill": {
     "duration": 0.033646,
     "end_time": "2021-12-22T19:55:58.485902",
     "exception": false,
     "start_time": "2021-12-22T19:55:58.452256",
     "status": "completed"
    },
    "tags": []
   },
   "outputs": [
    {
     "data": {
      "text/html": [
       "<div>\n",
       "<style scoped>\n",
       "    .dataframe tbody tr th:only-of-type {\n",
       "        vertical-align: middle;\n",
       "    }\n",
       "\n",
       "    .dataframe tbody tr th {\n",
       "        vertical-align: top;\n",
       "    }\n",
       "\n",
       "    .dataframe thead th {\n",
       "        text-align: right;\n",
       "    }\n",
       "</style>\n",
       "<table border=\"1\" class=\"dataframe\">\n",
       "  <thead>\n",
       "    <tr style=\"text-align: right;\">\n",
       "      <th></th>\n",
       "      <th>State</th>\n",
       "      <th>Number of Questions</th>\n",
       "      <th>Number of MPs</th>\n",
       "      <th>State MP Activity Score</th>\n",
       "    </tr>\n",
       "  </thead>\n",
       "  <tbody>\n",
       "    <tr>\n",
       "      <th>0</th>\n",
       "      <td>Maharashtra</td>\n",
       "      <td>1038</td>\n",
       "      <td>48</td>\n",
       "      <td>21.625000</td>\n",
       "    </tr>\n",
       "    <tr>\n",
       "      <th>1</th>\n",
       "      <td>Tamil Nadu</td>\n",
       "      <td>685</td>\n",
       "      <td>39</td>\n",
       "      <td>17.564103</td>\n",
       "    </tr>\n",
       "    <tr>\n",
       "      <th>2</th>\n",
       "      <td>Uttar Pradesh</td>\n",
       "      <td>677</td>\n",
       "      <td>80</td>\n",
       "      <td>8.462500</td>\n",
       "    </tr>\n",
       "    <tr>\n",
       "      <th>3</th>\n",
       "      <td>Andhra Pradesh</td>\n",
       "      <td>571</td>\n",
       "      <td>25</td>\n",
       "      <td>22.840000</td>\n",
       "    </tr>\n",
       "    <tr>\n",
       "      <th>4</th>\n",
       "      <td>Rajasthan</td>\n",
       "      <td>410</td>\n",
       "      <td>25</td>\n",
       "      <td>16.400000</td>\n",
       "    </tr>\n",
       "  </tbody>\n",
       "</table>\n",
       "</div>"
      ],
      "text/plain": [
       "            State  Number of Questions  Number of MPs  State MP Activity Score\n",
       "0     Maharashtra                 1038             48                21.625000\n",
       "1      Tamil Nadu                  685             39                17.564103\n",
       "2   Uttar Pradesh                  677             80                 8.462500\n",
       "3  Andhra Pradesh                  571             25                22.840000\n",
       "4       Rajasthan                  410             25                16.400000"
      ]
     },
     "execution_count": 9,
     "metadata": {},
     "output_type": "execute_result"
    }
   ],
   "source": [
    "questions_state_wise['State MP Activity Score'] = questions_state_wise['Number of Questions'] / questions_state_wise['Number of MPs']\n",
    "questions_state_wise.head()"
   ]
  },
  {
   "cell_type": "code",
   "execution_count": 10,
   "id": "c26f0f09",
   "metadata": {
    "execution": {
     "iopub.execute_input": "2021-12-22T19:55:58.571461Z",
     "iopub.status.busy": "2021-12-22T19:55:58.553218Z",
     "iopub.status.idle": "2021-12-22T19:55:58.992561Z",
     "shell.execute_reply": "2021-12-22T19:55:58.991930Z",
     "shell.execute_reply.started": "2021-12-22T19:20:37.198127Z"
    },
    "papermill": {
     "duration": 0.487874,
     "end_time": "2021-12-22T19:55:58.992699",
     "exception": false,
     "start_time": "2021-12-22T19:55:58.504825",
     "status": "completed"
    },
    "tags": []
   },
   "outputs": [
    {
     "data": {
      "image/png": "[encoded data removed]",
      "text/plain": [
       "<Figure size 1080x360 with 1 Axes>"
      ]
     },
     "metadata": {
      "needs_background": "light"
     },
     "output_type": "display_data"
    }
   ],
   "source": [
    "# Let's finally find out which state's MPs have been the most active\n",
    "questions_state_wise = questions_state_wise.sort_values('State MP Activity Score', ascending=False)\n",
    "plt.figure(figsize=(15, 5))\n",
    "plt.title('MP Activity Scores across States')\n",
    "sns.barplot(x='State', y='State MP Activity Score', data=questions_state_wise)\n",
    "plt.xticks(rotation=90)\n",
    "plt.show()"
   ]
  },
  {
   "cell_type": "code",
   "execution_count": 11,
   "id": "65c028eb",
   "metadata": {
    "execution": {
     "iopub.execute_input": "2021-12-22T19:55:59.052163Z",
     "iopub.status.busy": "2021-12-22T19:55:59.050927Z",
     "iopub.status.idle": "2021-12-22T19:55:59.058849Z",
     "shell.execute_reply": "2021-12-22T19:55:59.058177Z",
     "shell.execute_reply.started": "2021-12-22T19:20:37.619546Z"
    },
    "papermill": {
     "duration": 0.045409,
     "end_time": "2021-12-22T19:55:59.059014",
     "exception": false,
     "start_time": "2021-12-22T19:55:59.013605",
     "status": "completed"
    },
    "tags": []
   },
   "outputs": [
    {
     "data": {
      "text/html": [
       "<div>\n",
       "<style scoped>\n",
       "    .dataframe tbody tr th:only-of-type {\n",
       "        vertical-align: middle;\n",
       "    }\n",
       "\n",
       "    .dataframe tbody tr th {\n",
       "        vertical-align: top;\n",
       "    }\n",
       "\n",
       "    .dataframe thead th {\n",
       "        text-align: right;\n",
       "    }\n",
       "</style>\n",
       "<table border=\"1\" class=\"dataframe\">\n",
       "  <thead>\n",
       "    <tr style=\"text-align: right;\">\n",
       "      <th></th>\n",
       "      <th>id</th>\n",
       "      <th>from</th>\n",
       "      <th>to</th>\n",
       "      <th>topic</th>\n",
       "    </tr>\n",
       "  </thead>\n",
       "  <tbody>\n",
       "    <tr>\n",
       "      <th>109</th>\n",
       "      <td>491</td>\n",
       "      <td>Sharma, Shri Kuldeep Rai</td>\n",
       "      <td>CONSUMER AFFAIRS</td>\n",
       "      <td>Data on Edible Oil</td>\n",
       "    </tr>\n",
       "    <tr>\n",
       "      <th>148</th>\n",
       "      <td>517</td>\n",
       "      <td>Sharma, Shri Kuldeep Rai</td>\n",
       "      <td>RAILWAYS</td>\n",
       "      <td>Enhance Freight Earnings</td>\n",
       "    </tr>\n",
       "    <tr>\n",
       "      <th>244</th>\n",
       "      <td>592</td>\n",
       "      <td>Sharma, Shri Kuldeep Rai</td>\n",
       "      <td>ELECTRONICS  AND INFORMATION TECHNOLOGY</td>\n",
       "      <td>Digital  Villages</td>\n",
       "    </tr>\n",
       "    <tr>\n",
       "      <th>399</th>\n",
       "      <td>671</td>\n",
       "      <td>Sharma, Shri Kuldeep Rai</td>\n",
       "      <td>TEXTILES</td>\n",
       "      <td>Comprehensive Handloom Cluster Development\\nSc...</td>\n",
       "    </tr>\n",
       "    <tr>\n",
       "      <th>504</th>\n",
       "      <td>703</td>\n",
       "      <td>Sharma, Shri Kuldeep Rai</td>\n",
       "      <td>PETROLEUM AND NATURAL GAS</td>\n",
       "      <td>Pradhan Mantri Ujjwala Yojana (PMUY)</td>\n",
       "    </tr>\n",
       "    <tr>\n",
       "      <th>568</th>\n",
       "      <td>734</td>\n",
       "      <td>Sharma, Shri Kuldeep Rai</td>\n",
       "      <td>CIVIL AVIATION</td>\n",
       "      <td>Krishi UDAN 2.0 Scheme</td>\n",
       "    </tr>\n",
       "    <tr>\n",
       "      <th>923</th>\n",
       "      <td>927</td>\n",
       "      <td>Sharma, Shri Kuldeep Rai</td>\n",
       "      <td>WOMEN  AND  CHILD DEVELOPMENT</td>\n",
       "      <td>Global Hunger Index 2021</td>\n",
       "    </tr>\n",
       "    <tr>\n",
       "      <th>1116</th>\n",
       "      <td>991</td>\n",
       "      <td>Sharma, Shri Kuldeep Rai</td>\n",
       "      <td>HEALTH  AND  FAMILY WELFARE</td>\n",
       "      <td>Zika  Virus</td>\n",
       "    </tr>\n",
       "    <tr>\n",
       "      <th>1336</th>\n",
       "      <td>1117</td>\n",
       "      <td>Sharma, Shri Kuldeep Rai</td>\n",
       "      <td>HEALTH  AND  FAMILY WELFARE</td>\n",
       "      <td>COVID-19 Deaths in First and Second wave</td>\n",
       "    </tr>\n",
       "    <tr>\n",
       "      <th>1535</th>\n",
       "      <td>1187</td>\n",
       "      <td>Sharma, Shri Kuldeep Rai</td>\n",
       "      <td>EDUCATION</td>\n",
       "      <td>Total Literacy</td>\n",
       "    </tr>\n",
       "    <tr>\n",
       "      <th>1837</th>\n",
       "      <td>121</td>\n",
       "      <td>Sharma, Shri Kuldeep Rai</td>\n",
       "      <td>RURAL DEVELOPMENT</td>\n",
       "      <td>Self-Help Groups</td>\n",
       "    </tr>\n",
       "    <tr>\n",
       "      <th>2198</th>\n",
       "      <td>1588</td>\n",
       "      <td>Sharma, Shri Kuldeep Rai</td>\n",
       "      <td>SOCIAL  JUSTICE  AND EMPOWERMENT</td>\n",
       "      <td>Cross Disabilty Early Intervention Centres</td>\n",
       "    </tr>\n",
       "    <tr>\n",
       "      <th>2220</th>\n",
       "      <td>1597</td>\n",
       "      <td>Sharma, Shri Kuldeep Rai</td>\n",
       "      <td>FISHERIES</td>\n",
       "      <td>Infrastructure Development and Post-Harvest\\nM...</td>\n",
       "    </tr>\n",
       "    <tr>\n",
       "      <th>2300</th>\n",
       "      <td>1615</td>\n",
       "      <td>Sharma, Shri Kuldeep Rai</td>\n",
       "      <td>COMMERCE AND INDUSTRY</td>\n",
       "      <td>Gati Shakti Yojana</td>\n",
       "    </tr>\n",
       "    <tr>\n",
       "      <th>2371</th>\n",
       "      <td>1650</td>\n",
       "      <td>Sharma, Shri Kuldeep Rai</td>\n",
       "      <td>RAILWAYS</td>\n",
       "      <td>Shut down of IRSDC</td>\n",
       "    </tr>\n",
       "    <tr>\n",
       "      <th>2731</th>\n",
       "      <td>1881</td>\n",
       "      <td>Sharma, Shri Kuldeep Rai</td>\n",
       "      <td>PETROLEUM AND NATURAL GAS</td>\n",
       "      <td>CNG/PNG Service in Rural Areas</td>\n",
       "    </tr>\n",
       "    <tr>\n",
       "      <th>3012</th>\n",
       "      <td>2056</td>\n",
       "      <td>Sharma, Shri Kuldeep Rai</td>\n",
       "      <td>ROAD  TRANSPORT  AND HIGHWAYS</td>\n",
       "      <td>Shortage of Truck Drivers</td>\n",
       "    </tr>\n",
       "    <tr>\n",
       "      <th>3117</th>\n",
       "      <td>2079</td>\n",
       "      <td>Sharma, Shri Kuldeep Rai</td>\n",
       "      <td>HEALTH  AND  FAMILY WELFARE</td>\n",
       "      <td>World Arthritis Day</td>\n",
       "    </tr>\n",
       "    <tr>\n",
       "      <th>3163</th>\n",
       "      <td>2099</td>\n",
       "      <td>Sharma, Shri Kuldeep Rai</td>\n",
       "      <td>HEALTH  AND  FAMILY WELFARE</td>\n",
       "      <td>Eye Hospitals</td>\n",
       "    </tr>\n",
       "    <tr>\n",
       "      <th>3493</th>\n",
       "      <td>2296</td>\n",
       "      <td>Sharma, Shri Kuldeep Rai</td>\n",
       "      <td>WOMEN  AND  CHILD DEVELOPMENT</td>\n",
       "      <td>Integrated Child Development Services Scheme</td>\n",
       "    </tr>\n",
       "    <tr>\n",
       "      <th>3651</th>\n",
       "      <td>2347</td>\n",
       "      <td>Sharma, Shri Kuldeep Rai</td>\n",
       "      <td>EDUCATION</td>\n",
       "      <td>Fire Safety Measures in Schools</td>\n",
       "    </tr>\n",
       "    <tr>\n",
       "      <th>4009</th>\n",
       "      <td>2544</td>\n",
       "      <td>Sharma, Shri Kuldeep Rai</td>\n",
       "      <td>AGRICULTURE AND FARMERS WELFARE</td>\n",
       "      <td>Harmful Effect on Soil Fertility</td>\n",
       "    </tr>\n",
       "    <tr>\n",
       "      <th>4124</th>\n",
       "      <td>2604</td>\n",
       "      <td>Sharma, Shri Kuldeep Rai</td>\n",
       "      <td>AGRICULTURE AND FARMERS WELFARE</td>\n",
       "      <td>Seed Mini Kits</td>\n",
       "    </tr>\n",
       "    <tr>\n",
       "      <th>4423</th>\n",
       "      <td>2781</td>\n",
       "      <td>Sharma, Shri Kuldeep Rai</td>\n",
       "      <td>TEXTILES</td>\n",
       "      <td>Contribution of Textile Industry</td>\n",
       "    </tr>\n",
       "    <tr>\n",
       "      <th>4841</th>\n",
       "      <td>3029</td>\n",
       "      <td>Sharma, Shri Kuldeep Rai</td>\n",
       "      <td>CIVIL AVIATION</td>\n",
       "      <td>Infrastructure Facility at Airport</td>\n",
       "    </tr>\n",
       "    <tr>\n",
       "      <th>5752</th>\n",
       "      <td>3532</td>\n",
       "      <td>Sharma, Shri Kuldeep Rai</td>\n",
       "      <td>EDUCATION</td>\n",
       "      <td>Integrated Teachers Education Programme</td>\n",
       "    </tr>\n",
       "    <tr>\n",
       "      <th>6037</th>\n",
       "      <td>3710</td>\n",
       "      <td>Sharma, Shri Kuldeep Rai</td>\n",
       "      <td>FISHERIES</td>\n",
       "      <td>Modernisation of Poultry Farming</td>\n",
       "    </tr>\n",
       "    <tr>\n",
       "      <th>6428</th>\n",
       "      <td>3943</td>\n",
       "      <td>Sharma, Shri Kuldeep Rai</td>\n",
       "      <td>COMMUNICATIONS</td>\n",
       "      <td>Services Provided\\nby Department of Posts</td>\n",
       "    </tr>\n",
       "    <tr>\n",
       "      <th>6739</th>\n",
       "      <td>4158</td>\n",
       "      <td>Sharma, Shri Kuldeep Rai</td>\n",
       "      <td>MICRO</td>\n",
       "      <td>Workshed Scheme</td>\n",
       "    </tr>\n",
       "  </tbody>\n",
       "</table>\n",
       "</div>"
      ],
      "text/plain": [
       "        id                      from                                       to  \\\n",
       "109    491  Sharma, Shri Kuldeep Rai                         CONSUMER AFFAIRS   \n",
       "148    517  Sharma, Shri Kuldeep Rai                                 RAILWAYS   \n",
       "244    592  Sharma, Shri Kuldeep Rai  ELECTRONICS  AND INFORMATION TECHNOLOGY   \n",
       "399    671  Sharma, Shri Kuldeep Rai                                 TEXTILES   \n",
       "504    703  Sharma, Shri Kuldeep Rai                PETROLEUM AND NATURAL GAS   \n",
       "568    734  Sharma, Shri Kuldeep Rai                           CIVIL AVIATION   \n",
       "923    927  Sharma, Shri Kuldeep Rai            WOMEN  AND  CHILD DEVELOPMENT   \n",
       "1116   991  Sharma, Shri Kuldeep Rai              HEALTH  AND  FAMILY WELFARE   \n",
       "1336  1117  Sharma, Shri Kuldeep Rai              HEALTH  AND  FAMILY WELFARE   \n",
       "1535  1187  Sharma, Shri Kuldeep Rai                                EDUCATION   \n",
       "1837   121  Sharma, Shri Kuldeep Rai                        RURAL DEVELOPMENT   \n",
       "2198  1588  Sharma, Shri Kuldeep Rai         SOCIAL  JUSTICE  AND EMPOWERMENT   \n",
       "2220  1597  Sharma, Shri Kuldeep Rai                                FISHERIES   \n",
       "2300  1615  Sharma, Shri Kuldeep Rai                    COMMERCE AND INDUSTRY   \n",
       "2371  1650  Sharma, Shri Kuldeep Rai                                 RAILWAYS   \n",
       "2731  1881  Sharma, Shri Kuldeep Rai                PETROLEUM AND NATURAL GAS   \n",
       "3012  2056  Sharma, Shri Kuldeep Rai            ROAD  TRANSPORT  AND HIGHWAYS   \n",
       "3117  2079  Sharma, Shri Kuldeep Rai              HEALTH  AND  FAMILY WELFARE   \n",
       "3163  2099  Sharma, Shri Kuldeep Rai              HEALTH  AND  FAMILY WELFARE   \n",
       "3493  2296  Sharma, Shri Kuldeep Rai            WOMEN  AND  CHILD DEVELOPMENT   \n",
       "3651  2347  Sharma, Shri Kuldeep Rai                                EDUCATION   \n",
       "4009  2544  Sharma, Shri Kuldeep Rai          AGRICULTURE AND FARMERS WELFARE   \n",
       "4124  2604  Sharma, Shri Kuldeep Rai          AGRICULTURE AND FARMERS WELFARE   \n",
       "4423  2781  Sharma, Shri Kuldeep Rai                                 TEXTILES   \n",
       "4841  3029  Sharma, Shri Kuldeep Rai                           CIVIL AVIATION   \n",
       "5752  3532  Sharma, Shri Kuldeep Rai                                EDUCATION   \n",
       "6037  3710  Sharma, Shri Kuldeep Rai                                FISHERIES   \n",
       "6428  3943  Sharma, Shri Kuldeep Rai                           COMMUNICATIONS   \n",
       "6739  4158  Sharma, Shri Kuldeep Rai                                    MICRO   \n",
       "\n",
       "                                                  topic  \n",
       "109                                  Data on Edible Oil  \n",
       "148                            Enhance Freight Earnings  \n",
       "244                                   Digital  Villages  \n",
       "399   Comprehensive Handloom Cluster Development\\nSc...  \n",
       "504                Pradhan Mantri Ujjwala Yojana (PMUY)  \n",
       "568                              Krishi UDAN 2.0 Scheme  \n",
       "923                            Global Hunger Index 2021  \n",
       "1116                                        Zika  Virus  \n",
       "1336           COVID-19 Deaths in First and Second wave  \n",
       "1535                                     Total Literacy  \n",
       "1837                                   Self-Help Groups  \n",
       "2198         Cross Disabilty Early Intervention Centres  \n",
       "2220  Infrastructure Development and Post-Harvest\\nM...  \n",
       "2300                                 Gati Shakti Yojana  \n",
       "2371                                 Shut down of IRSDC  \n",
       "2731                     CNG/PNG Service in Rural Areas  \n",
       "3012                          Shortage of Truck Drivers  \n",
       "3117                                World Arthritis Day  \n",
       "3163                                      Eye Hospitals  \n",
       "3493       Integrated Child Development Services Scheme  \n",
       "3651                    Fire Safety Measures in Schools  \n",
       "4009                   Harmful Effect on Soil Fertility  \n",
       "4124                                     Seed Mini Kits  \n",
       "4423                   Contribution of Textile Industry  \n",
       "4841                 Infrastructure Facility at Airport  \n",
       "5752            Integrated Teachers Education Programme  \n",
       "6037                   Modernisation of Poultry Farming  \n",
       "6428          Services Provided\\nby Department of Posts  \n",
       "6739                                    Workshed Scheme  "
      ]
     },
     "execution_count": 11,
     "metadata": {},
     "output_type": "execute_result"
    }
   ],
   "source": [
    "# What's up with Andaman and Nicobar Islands?\n",
    "questions[questions['state']=='Andaman and Nicobar Islands'][['id', 'from', 'to', 'topic']]"
   ]
  },
  {
   "cell_type": "code",
   "execution_count": 12,
   "id": "92f66f4a",
   "metadata": {
    "execution": {
     "iopub.execute_input": "2021-12-22T19:55:59.120703Z",
     "iopub.status.busy": "2021-12-22T19:55:59.119686Z",
     "iopub.status.idle": "2021-12-22T19:55:59.629409Z",
     "shell.execute_reply": "2021-12-22T19:55:59.630008Z",
     "shell.execute_reply.started": "2021-12-22T19:20:37.636407Z"
    },
    "papermill": {
     "duration": 0.549255,
     "end_time": "2021-12-22T19:55:59.630201",
     "exception": false,
     "start_time": "2021-12-22T19:55:59.080946",
     "status": "completed"
    },
    "tags": []
   },
   "outputs": [
    {
     "data": {
      "image/png": "[encoded data removed]",
      "text/plain": [
       "<Figure size 1080x360 with 1 Axes>"
      ]
     },
     "metadata": {
      "needs_background": "light"
     },
     "output_type": "display_data"
    }
   ],
   "source": [
    "# Considering the political affiliation of the MPs, how many questions were contributed by members from a particular party?\n",
    "questions_party_wise = questions.groupby('party')['party'].agg(['count']).sort_values('count', ascending=False).reset_index()\n",
    "questions_party_wise.columns = ['Political Party', 'Number of Questions']\n",
    "plt.figure(figsize=(15, 5))\n",
    "plt.title('Party-wise distribution of questions')\n",
    "sns.barplot(x='Political Party', y='Number of Questions', data=questions_party_wise)\n",
    "plt.xticks(rotation=90)\n",
    "plt.show()"
   ]
  },
  {
   "cell_type": "code",
   "execution_count": 13,
   "id": "9f8f40c1",
   "metadata": {
    "execution": {
     "iopub.execute_input": "2021-12-22T19:55:59.690798Z",
     "iopub.status.busy": "2021-12-22T19:55:59.690147Z",
     "iopub.status.idle": "2021-12-22T19:55:59.696607Z",
     "shell.execute_reply": "2021-12-22T19:55:59.696071Z",
     "shell.execute_reply.started": "2021-12-22T19:20:38.120538Z"
    },
    "papermill": {
     "duration": 0.043265,
     "end_time": "2021-12-22T19:55:59.696753",
     "exception": false,
     "start_time": "2021-12-22T19:55:59.653488",
     "status": "completed"
    },
    "tags": []
   },
   "outputs": [
    {
     "data": {
      "text/html": [
       "<div>\n",
       "<style scoped>\n",
       "    .dataframe tbody tr th:only-of-type {\n",
       "        vertical-align: middle;\n",
       "    }\n",
       "\n",
       "    .dataframe tbody tr th {\n",
       "        vertical-align: top;\n",
       "    }\n",
       "\n",
       "    .dataframe thead th {\n",
       "        text-align: right;\n",
       "    }\n",
       "</style>\n",
       "<table border=\"1\" class=\"dataframe\">\n",
       "  <thead>\n",
       "    <tr style=\"text-align: right;\">\n",
       "      <th></th>\n",
       "      <th>Political Party</th>\n",
       "      <th>Number of Questions</th>\n",
       "      <th>Number of MPs</th>\n",
       "    </tr>\n",
       "  </thead>\n",
       "  <tbody>\n",
       "    <tr>\n",
       "      <th>0</th>\n",
       "      <td>Bharatiya Janata Party</td>\n",
       "      <td>3391</td>\n",
       "      <td>301</td>\n",
       "    </tr>\n",
       "    <tr>\n",
       "      <th>1</th>\n",
       "      <td>Indian National Congress</td>\n",
       "      <td>838</td>\n",
       "      <td>53</td>\n",
       "    </tr>\n",
       "    <tr>\n",
       "      <th>2</th>\n",
       "      <td>Yuvajana Sramika Rythu Congress Party</td>\n",
       "      <td>500</td>\n",
       "      <td>22</td>\n",
       "    </tr>\n",
       "    <tr>\n",
       "      <th>3</th>\n",
       "      <td>Shiv Sena</td>\n",
       "      <td>459</td>\n",
       "      <td>19</td>\n",
       "    </tr>\n",
       "    <tr>\n",
       "      <th>4</th>\n",
       "      <td>Dravida Munnetra Kazhagam</td>\n",
       "      <td>450</td>\n",
       "      <td>24</td>\n",
       "    </tr>\n",
       "  </tbody>\n",
       "</table>\n",
       "</div>"
      ],
      "text/plain": [
       "                         Political Party  Number of Questions  Number of MPs\n",
       "0                 Bharatiya Janata Party                 3391            301\n",
       "1               Indian National Congress                  838             53\n",
       "2  Yuvajana Sramika Rythu Congress Party                  500             22\n",
       "3                              Shiv Sena                  459             19\n",
       "4              Dravida Munnetra Kazhagam                  450             24"
      ]
     },
     "execution_count": 13,
     "metadata": {},
     "output_type": "execute_result"
    }
   ],
   "source": [
    "# This graph isn't surprising. Need to formulate a Party MP Activity Score for better insights\n",
    "# Find number of members from each Party\n",
    "party_counts = members.groupby('Party')['Party'].count().to_dict()\n",
    "\n",
    "# Map party_counts to questions_party_wise\n",
    "questions_party_wise['Number of MPs'] = questions_party_wise['Political Party'].map(party_counts)\n",
    "\n",
    "# Check out party wise questions now\n",
    "questions_party_wise.head()"
   ]
  },
  {
   "cell_type": "code",
   "execution_count": 14,
   "id": "069cf9b1",
   "metadata": {
    "execution": {
     "iopub.execute_input": "2021-12-22T19:55:59.748421Z",
     "iopub.status.busy": "2021-12-22T19:55:59.747728Z",
     "iopub.status.idle": "2021-12-22T19:56:00.381360Z",
     "shell.execute_reply": "2021-12-22T19:56:00.381864Z",
     "shell.execute_reply.started": "2021-12-22T19:21:12.687373Z"
    },
    "papermill": {
     "duration": 0.661058,
     "end_time": "2021-12-22T19:56:00.382050",
     "exception": false,
     "start_time": "2021-12-22T19:55:59.720992",
     "status": "completed"
    },
    "tags": []
   },
   "outputs": [
    {
     "data": {
      "image/png": "[encoded data removed]",
      "text/plain": [
       "<Figure size 1080x360 with 1 Axes>"
      ]
     },
     "metadata": {
      "needs_background": "light"
     },
     "output_type": "display_data"
    }
   ],
   "source": [
    "# Calculate Party MP Activity Score\n",
    "questions_party_wise['Party MP Activity Score'] = questions_party_wise['Number of Questions'] / questions_party_wise['Number of MPs']\n",
    "\n",
    "# Let's finally find out which party's MPs have been the most active\n",
    "questions_party_wise = questions_party_wise.sort_values('Party MP Activity Score', ascending=False)\n",
    "plt.figure(figsize=(15, 5))\n",
    "plt.title('MP Activity Scores across Political Parties')\n",
    "sns.barplot(x='Political Party', y='Party MP Activity Score', data=questions_party_wise)\n",
    "plt.xticks(rotation=90)\n",
    "plt.show()"
   ]
  },
  {
   "cell_type": "markdown",
   "id": "6812300d",
   "metadata": {
    "papermill": {
     "duration": 0.025569,
     "end_time": "2021-12-22T19:56:00.434561",
     "exception": false,
     "start_time": "2021-12-22T19:56:00.408992",
     "status": "completed"
    },
    "tags": []
   },
   "source": [
    "## The curious case of Shri Sunil Kumars\n",
    "* Mapping the Asking Member to an actual Member of Parliament was a difficult task. For e.g., consider the following names:\n",
    "  - Shri Sunil Kumar Singh\n",
    "  - Shri S.K. Singh\n",
    "  - Shri Sunil Singh\n",
    "  - *Singh, Shri Sunil Kumar*\n",
    "  - Singh, Sunil Kumar\n",
    "  - Singh, Sunil K.\n",
    "* These are all valid ways to write a name. Which one do we stick to? I choose to go with the full name approach with Last Name, First Name. Fuzzy-matching of Indian names was a difficult task, but it worked out well, thanks mostly to [thefuzz](https://github.com/seatgeek/thefuzz).\n",
    "* Btw, interestingly, we currently have *FIVE* Shri Sunil Kumar's as MPs:\n",
    "\n",
    "\n",
    "| Member Name | Party | Constituency |\n",
    "| --- | --- | --- |\n",
    "| Mondal, Shri Sunil Kumar | All India Trinamool Congress\t| Bardhaman Purba (SC)(West Bengal) |\n",
    "| Singh, Shri Sunil Kumar\t| Bharatiya Janata Party\t| Chatra (Jharkhand) |\n",
    "| Soni, Shri Sunil Kumar\t| Bharatiya Janata Party\t| Raipur (Chhattisgarh) |\n",
    "| Sunil Kumar Pintu, Shri\t| Janata Dal (United)\t| Sitamarhi (Bihar) |\n",
    "| Kumar, Shri Sunil\t| Janata Dal (United)\t| Valmiki Nagar (Bihar) |\n",
    "\n",
    "* Would be interesting to see how all the Shri Sunil Kumars stack up against each other"
   ]
  },
  {
   "cell_type": "code",
   "execution_count": 15,
   "id": "2c25598d",
   "metadata": {
    "execution": {
     "iopub.execute_input": "2021-12-22T19:56:00.490843Z",
     "iopub.status.busy": "2021-12-22T19:56:00.489863Z",
     "iopub.status.idle": "2021-12-22T19:56:00.516552Z",
     "shell.execute_reply": "2021-12-22T19:56:00.517172Z",
     "shell.execute_reply.started": "2021-12-22T19:42:05.704132Z"
    },
    "papermill": {
     "duration": 0.056967,
     "end_time": "2021-12-22T19:56:00.517339",
     "exception": false,
     "start_time": "2021-12-22T19:56:00.460372",
     "status": "completed"
    },
    "tags": []
   },
   "outputs": [
    {
     "data": {
      "text/html": [
       "<div>\n",
       "<style scoped>\n",
       "    .dataframe tbody tr th:only-of-type {\n",
       "        vertical-align: middle;\n",
       "    }\n",
       "\n",
       "    .dataframe tbody tr th {\n",
       "        vertical-align: top;\n",
       "    }\n",
       "\n",
       "    .dataframe thead th {\n",
       "        text-align: right;\n",
       "    }\n",
       "</style>\n",
       "<table border=\"1\" class=\"dataframe\">\n",
       "  <thead>\n",
       "    <tr style=\"text-align: right;\">\n",
       "      <th></th>\n",
       "      <th>Unnamed: 0</th>\n",
       "      <th>id</th>\n",
       "      <th>topic</th>\n",
       "      <th>from</th>\n",
       "      <th>to</th>\n",
       "      <th>contents</th>\n",
       "      <th>date</th>\n",
       "      <th>type</th>\n",
       "      <th>party</th>\n",
       "      <th>state</th>\n",
       "      <th>constituency</th>\n",
       "      <th>constituency_type</th>\n",
       "    </tr>\n",
       "  </thead>\n",
       "  <tbody>\n",
       "    <tr>\n",
       "      <th>237</th>\n",
       "      <td>237</td>\n",
       "      <td>587</td>\n",
       "      <td>Amrit Mahotsav</td>\n",
       "      <td>Singh, Shri Sunil Kumar</td>\n",
       "      <td>CONSUMER AFFAIRS</td>\n",
       "      <td>(a) the details of programmes organized by the...</td>\n",
       "      <td>2021-12-01</td>\n",
       "      <td>UNSTARRED</td>\n",
       "      <td>Bharatiya Janata Party</td>\n",
       "      <td>Jharkhand</td>\n",
       "      <td>Chatra</td>\n",
       "      <td>NaN</td>\n",
       "    </tr>\n",
       "    <tr>\n",
       "      <th>468</th>\n",
       "      <td>468</td>\n",
       "      <td>80</td>\n",
       "      <td>Rashtriya Jal Jeevan Mission</td>\n",
       "      <td>Singh, Shri Sunil Kumar</td>\n",
       "      <td>JAL SHAKTI</td>\n",
       "      <td>(a) whether a team of Rashtriya Jal Jeevan Mis...</td>\n",
       "      <td>2021-12-02</td>\n",
       "      <td>STARRED</td>\n",
       "      <td>Bharatiya Janata Party</td>\n",
       "      <td>Jharkhand</td>\n",
       "      <td>Chatra</td>\n",
       "      <td>NaN</td>\n",
       "    </tr>\n",
       "    <tr>\n",
       "      <th>525</th>\n",
       "      <td>525</td>\n",
       "      <td>709</td>\n",
       "      <td>Status of PFC and REC</td>\n",
       "      <td>Mondal, Shri Sunil Kumar</td>\n",
       "      <td>POWER</td>\n",
       "      <td>(a) the present status of Power Finance Corpor...</td>\n",
       "      <td>2021-12-02</td>\n",
       "      <td>UNSTARRED</td>\n",
       "      <td>All India Trinamool Congress</td>\n",
       "      <td>West Bengal</td>\n",
       "      <td>Bardhaman Purba</td>\n",
       "      <td>SC</td>\n",
       "    </tr>\n",
       "    <tr>\n",
       "      <th>697</th>\n",
       "      <td>697</td>\n",
       "      <td>788</td>\n",
       "      <td>Silting  in  Rivers</td>\n",
       "      <td>Kumar, Shri Sunil</td>\n",
       "      <td>JAL SHAKTI</td>\n",
       "      <td>(a) whether excessive silt deposited in the ri...</td>\n",
       "      <td>2021-12-02</td>\n",
       "      <td>UNSTARRED</td>\n",
       "      <td>Janata Dal (United)</td>\n",
       "      <td>Bihar</td>\n",
       "      <td>Valmiki Nagar</td>\n",
       "      <td>NaN</td>\n",
       "    </tr>\n",
       "    <tr>\n",
       "      <th>795</th>\n",
       "      <td>795</td>\n",
       "      <td>870</td>\n",
       "      <td>Allotment of Houses to Poor</td>\n",
       "      <td>Sunil Kumar Pintu, Shri</td>\n",
       "      <td>HOUSING  AND  URBAN AFFAIRS</td>\n",
       "      <td>(a) whether the Government proposes to allot r...</td>\n",
       "      <td>2021-12-02</td>\n",
       "      <td>UNSTARRED</td>\n",
       "      <td>Janata Dal (United)</td>\n",
       "      <td>Bihar</td>\n",
       "      <td>Sitamarhi</td>\n",
       "      <td>NaN</td>\n",
       "    </tr>\n",
       "  </tbody>\n",
       "</table>\n",
       "</div>"
      ],
      "text/plain": [
       "     Unnamed: 0   id                         topic                      from  \\\n",
       "237         237  587                Amrit Mahotsav   Singh, Shri Sunil Kumar   \n",
       "468         468   80  Rashtriya Jal Jeevan Mission   Singh, Shri Sunil Kumar   \n",
       "525         525  709         Status of PFC and REC  Mondal, Shri Sunil Kumar   \n",
       "697         697  788           Silting  in  Rivers         Kumar, Shri Sunil   \n",
       "795         795  870   Allotment of Houses to Poor   Sunil Kumar Pintu, Shri   \n",
       "\n",
       "                              to  \\\n",
       "237             CONSUMER AFFAIRS   \n",
       "468                   JAL SHAKTI   \n",
       "525                        POWER   \n",
       "697                   JAL SHAKTI   \n",
       "795  HOUSING  AND  URBAN AFFAIRS   \n",
       "\n",
       "                                              contents        date       type  \\\n",
       "237  (a) the details of programmes organized by the...  2021-12-01  UNSTARRED   \n",
       "468  (a) whether a team of Rashtriya Jal Jeevan Mis...  2021-12-02    STARRED   \n",
       "525  (a) the present status of Power Finance Corpor...  2021-12-02  UNSTARRED   \n",
       "697  (a) whether excessive silt deposited in the ri...  2021-12-02  UNSTARRED   \n",
       "795  (a) whether the Government proposes to allot r...  2021-12-02  UNSTARRED   \n",
       "\n",
       "                            party        state     constituency  \\\n",
       "237        Bharatiya Janata Party    Jharkhand           Chatra   \n",
       "468        Bharatiya Janata Party    Jharkhand           Chatra   \n",
       "525  All India Trinamool Congress  West Bengal  Bardhaman Purba   \n",
       "697           Janata Dal (United)        Bihar    Valmiki Nagar   \n",
       "795           Janata Dal (United)        Bihar        Sitamarhi   \n",
       "\n",
       "    constituency_type  \n",
       "237               NaN  \n",
       "468               NaN  \n",
       "525                SC  \n",
       "697               NaN  \n",
       "795               NaN  "
      ]
     },
     "execution_count": 15,
     "metadata": {},
     "output_type": "execute_result"
    }
   ],
   "source": [
    "# Collect all questions\n",
    "questions_sunil = questions[questions['from'].str.contains('Sunil') & questions['from'].str.contains('Kumar')]\n",
    "questions_sunil.head()"
   ]
  },
  {
   "cell_type": "code",
   "execution_count": 16,
   "id": "4068cf94",
   "metadata": {
    "execution": {
     "iopub.execute_input": "2021-12-22T19:56:00.573645Z",
     "iopub.status.busy": "2021-12-22T19:56:00.572649Z",
     "iopub.status.idle": "2021-12-22T19:56:00.808043Z",
     "shell.execute_reply": "2021-12-22T19:56:00.808593Z",
     "shell.execute_reply.started": "2021-12-22T19:47:22.600014Z"
    },
    "papermill": {
     "duration": 0.265261,
     "end_time": "2021-12-22T19:56:00.808762",
     "exception": false,
     "start_time": "2021-12-22T19:56:00.543501",
     "status": "completed"
    },
    "tags": []
   },
   "outputs": [
    {
     "data": {
      "image/png": "[encoded data removed]",
      "text/plain": [
       "<Figure size 1080x720 with 1 Axes>"
      ]
     },
     "metadata": {
      "needs_background": "light"
     },
     "output_type": "display_data"
    }
   ],
   "source": [
    "# Grouping these by 'from'\n",
    "questions_sunil_wise = questions_sunil.groupby('from')['from'].agg(['count']).sort_values('count', ascending=False).reset_index()\n",
    "questions_sunil_wise.columns = ['MP', 'Number of Questions']\n",
    "plt.figure(figsize=(15, 10))\n",
    "plt.title('Distribution of Lok Sabha questions across members named Shri Sunil Kumar')\n",
    "sns.barplot(x='MP', y='Number of Questions', data=questions_sunil_wise)\n",
    "plt.show()"
   ]
  }
 ],
 "metadata": {
  "kernelspec": {
   "display_name": "Python 3",
   "language": "python",
   "name": "python3"
  },
  "language_info": {
   "codemirror_mode": {
    "name": "ipython",
    "version": 3
   },
   "file_extension": ".py",
   "mimetype": "text/x-python",
   "name": "python",
   "nbconvert_exporter": "python",
   "pygments_lexer": "ipython3",
   "version": "3.7.12"
  },
  "papermill": {
   "default_parameters": {},
   "duration": 15.835238,
   "end_time": "2021-12-22T19:56:01.546456",
   "environment_variables": {},
   "exception": null,
   "input_path": "__notebook__.ipynb",
   "output_path": "__notebook__.ipynb",
   "parameters": {},
   "start_time": "2021-12-22T19:55:45.711218",
   "version": "2.3.3"
  }
 },
 "nbformat": 4,
 "nbformat_minor": 5
}
